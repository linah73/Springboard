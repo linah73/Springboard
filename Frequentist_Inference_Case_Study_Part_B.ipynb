{
  "cells": [
    {
      "cell_type": "markdown",
      "metadata": {
        "id": "E41W5ZbXtKsS"
      },
      "source": [
        "# Frequentist Inference Case Study - Part B"
      ]
    },
    {
      "cell_type": "markdown",
      "metadata": {
        "id": "uAWa90qctKsU"
      },
      "source": [
        "Welcome to Part B of the Frequentist inference case study! The purpose of this case study is to help you apply the concepts associated with Frequentist inference in Python. In particular, you'll practice writing Python code to apply the following statistical concepts: \n",
        "* the _z_-statistic\n",
        "* the _t_-statistic\n",
        "* the difference and relationship between the two\n",
        "* the Central Limit Theorem, including its assumptions and consequences\n",
        "* how to estimate the population mean and standard deviation from a sample\n",
        "* the concept of a sampling distribution of a test statistic, particularly for the mean\n",
        "* how to combine these concepts to calculate a confidence interval"
      ]
    },
    {
      "cell_type": "markdown",
      "metadata": {
        "id": "wt3MGJhFtKsV"
      },
      "source": [
        "In the previous notebook, we used only data from a known normal distribution. **You'll now tackle real data, rather than simulated data, and answer some relevant real-world business problems using the data.**"
      ]
    },
    {
      "cell_type": "markdown",
      "metadata": {
        "id": "S-xfeYH5tKsV"
      },
      "source": [
        "## Hospital medical charges"
      ]
    },
    {
      "cell_type": "markdown",
      "metadata": {
        "id": "w61tCmCAtKsV"
      },
      "source": [
        "Imagine that a hospital has hired you as their data scientist. An administrator is working on the hospital's business operations plan and needs you to help them answer some business questions. \n",
        "\n",
        "In this assignment notebook, you're going to use frequentist statistical inference on a data sample to answer the questions:\n",
        "* has the hospital's revenue stream fallen below a key threshold?\n",
        "* are patients with insurance really charged different amounts than those without?\n",
        "\n",
        "Answering that last question with a frequentist approach makes some assumptions, and requires some knowledge, about the two groups."
      ]
    },
    {
      "cell_type": "markdown",
      "metadata": {
        "id": "DY3oPyObtKsW"
      },
      "source": [
        "We are going to use some data on medical charges obtained from [Kaggle](https://www.kaggle.com/easonlai/sample-insurance-claim-prediction-dataset). \n",
        "\n",
        "For the purposes of this exercise, assume the observations are the result of random sampling from our single hospital. Recall that in the previous assignment, we introduced the Central Limit Theorem (CLT), and its consequence that the distributions of sample statistics approach a normal distribution as $n$ increases. The amazing thing about this is that it applies to the sampling distributions of statistics that have been calculated from even highly non-normal distributions of data! Recall, also, that hypothesis testing is very much based on making inferences about such sample statistics. You're going to rely heavily on the CLT to apply frequentist (parametric) tests to answer the questions in this notebook."
      ]
    },
    {
      "cell_type": "code",
      "execution_count": 2,
      "metadata": {
        "id": "mdxMjzxStKsW"
      },
      "outputs": [],
      "source": [
        "import pandas as pd\n",
        "import numpy as np\n",
        "import matplotlib.pyplot as plt\n",
        "from scipy.stats import t\n",
        "from numpy.random import seed\n",
        "medical = pd.read_csv('data/insurance2.csv')"
      ]
    },
    {
      "cell_type": "code",
      "execution_count": 3,
      "metadata": {
        "colab": {
          "base_uri": "https://localhost:8080/"
        },
        "id": "0UKaJCtztKsX",
        "outputId": "211f09a1-ba50-42b3-8ebe-79f7ceedc83e"
      },
      "outputs": [
        {
          "output_type": "execute_result",
          "data": {
            "text/plain": [
              "(1338, 8)"
            ]
          },
          "metadata": {},
          "execution_count": 3
        }
      ],
      "source": [
        "medical.shape"
      ]
    },
    {
      "cell_type": "code",
      "execution_count": 4,
      "metadata": {
        "colab": {
          "base_uri": "https://localhost:8080/",
          "height": 204
        },
        "id": "Pf45BqGwtKsY",
        "outputId": "63f230b7-4a38-464d-8e31-6e783a55bab1"
      },
      "outputs": [
        {
          "output_type": "execute_result",
          "data": {
            "text/html": [
              "\n",
              "  <div id=\"df-adc802d9-b44b-458b-9433-d15363cd5492\">\n",
              "    <div class=\"colab-df-container\">\n",
              "      <div>\n",
              "<style scoped>\n",
              "    .dataframe tbody tr th:only-of-type {\n",
              "        vertical-align: middle;\n",
              "    }\n",
              "\n",
              "    .dataframe tbody tr th {\n",
              "        vertical-align: top;\n",
              "    }\n",
              "\n",
              "    .dataframe thead th {\n",
              "        text-align: right;\n",
              "    }\n",
              "</style>\n",
              "<table border=\"1\" class=\"dataframe\">\n",
              "  <thead>\n",
              "    <tr style=\"text-align: right;\">\n",
              "      <th></th>\n",
              "      <th>age</th>\n",
              "      <th>sex</th>\n",
              "      <th>bmi</th>\n",
              "      <th>children</th>\n",
              "      <th>smoker</th>\n",
              "      <th>region</th>\n",
              "      <th>charges</th>\n",
              "      <th>insuranceclaim</th>\n",
              "    </tr>\n",
              "  </thead>\n",
              "  <tbody>\n",
              "    <tr>\n",
              "      <th>0</th>\n",
              "      <td>19</td>\n",
              "      <td>0</td>\n",
              "      <td>27.900</td>\n",
              "      <td>0</td>\n",
              "      <td>1</td>\n",
              "      <td>3</td>\n",
              "      <td>16884.92400</td>\n",
              "      <td>1</td>\n",
              "    </tr>\n",
              "    <tr>\n",
              "      <th>1</th>\n",
              "      <td>18</td>\n",
              "      <td>1</td>\n",
              "      <td>33.770</td>\n",
              "      <td>1</td>\n",
              "      <td>0</td>\n",
              "      <td>2</td>\n",
              "      <td>1725.55230</td>\n",
              "      <td>1</td>\n",
              "    </tr>\n",
              "    <tr>\n",
              "      <th>2</th>\n",
              "      <td>28</td>\n",
              "      <td>1</td>\n",
              "      <td>33.000</td>\n",
              "      <td>3</td>\n",
              "      <td>0</td>\n",
              "      <td>2</td>\n",
              "      <td>4449.46200</td>\n",
              "      <td>0</td>\n",
              "    </tr>\n",
              "    <tr>\n",
              "      <th>3</th>\n",
              "      <td>33</td>\n",
              "      <td>1</td>\n",
              "      <td>22.705</td>\n",
              "      <td>0</td>\n",
              "      <td>0</td>\n",
              "      <td>1</td>\n",
              "      <td>21984.47061</td>\n",
              "      <td>0</td>\n",
              "    </tr>\n",
              "    <tr>\n",
              "      <th>4</th>\n",
              "      <td>32</td>\n",
              "      <td>1</td>\n",
              "      <td>28.880</td>\n",
              "      <td>0</td>\n",
              "      <td>0</td>\n",
              "      <td>1</td>\n",
              "      <td>3866.85520</td>\n",
              "      <td>1</td>\n",
              "    </tr>\n",
              "  </tbody>\n",
              "</table>\n",
              "</div>\n",
              "      <button class=\"colab-df-convert\" onclick=\"convertToInteractive('df-adc802d9-b44b-458b-9433-d15363cd5492')\"\n",
              "              title=\"Convert this dataframe to an interactive table.\"\n",
              "              style=\"display:none;\">\n",
              "        \n",
              "  <svg xmlns=\"http://www.w3.org/2000/svg\" height=\"24px\"viewBox=\"0 0 24 24\"\n",
              "       width=\"24px\">\n",
              "    <path d=\"M0 0h24v24H0V0z\" fill=\"none\"/>\n",
              "    <path d=\"M18.56 5.44l.94 2.06.94-2.06 2.06-.94-2.06-.94-.94-2.06-.94 2.06-2.06.94zm-11 1L8.5 8.5l.94-2.06 2.06-.94-2.06-.94L8.5 2.5l-.94 2.06-2.06.94zm10 10l.94 2.06.94-2.06 2.06-.94-2.06-.94-.94-2.06-.94 2.06-2.06.94z\"/><path d=\"M17.41 7.96l-1.37-1.37c-.4-.4-.92-.59-1.43-.59-.52 0-1.04.2-1.43.59L10.3 9.45l-7.72 7.72c-.78.78-.78 2.05 0 2.83L4 21.41c.39.39.9.59 1.41.59.51 0 1.02-.2 1.41-.59l7.78-7.78 2.81-2.81c.8-.78.8-2.07 0-2.86zM5.41 20L4 18.59l7.72-7.72 1.47 1.35L5.41 20z\"/>\n",
              "  </svg>\n",
              "      </button>\n",
              "      \n",
              "  <style>\n",
              "    .colab-df-container {\n",
              "      display:flex;\n",
              "      flex-wrap:wrap;\n",
              "      gap: 12px;\n",
              "    }\n",
              "\n",
              "    .colab-df-convert {\n",
              "      background-color: #E8F0FE;\n",
              "      border: none;\n",
              "      border-radius: 50%;\n",
              "      cursor: pointer;\n",
              "      display: none;\n",
              "      fill: #1967D2;\n",
              "      height: 32px;\n",
              "      padding: 0 0 0 0;\n",
              "      width: 32px;\n",
              "    }\n",
              "\n",
              "    .colab-df-convert:hover {\n",
              "      background-color: #E2EBFA;\n",
              "      box-shadow: 0px 1px 2px rgba(60, 64, 67, 0.3), 0px 1px 3px 1px rgba(60, 64, 67, 0.15);\n",
              "      fill: #174EA6;\n",
              "    }\n",
              "\n",
              "    [theme=dark] .colab-df-convert {\n",
              "      background-color: #3B4455;\n",
              "      fill: #D2E3FC;\n",
              "    }\n",
              "\n",
              "    [theme=dark] .colab-df-convert:hover {\n",
              "      background-color: #434B5C;\n",
              "      box-shadow: 0px 1px 3px 1px rgba(0, 0, 0, 0.15);\n",
              "      filter: drop-shadow(0px 1px 2px rgba(0, 0, 0, 0.3));\n",
              "      fill: #FFFFFF;\n",
              "    }\n",
              "  </style>\n",
              "\n",
              "      <script>\n",
              "        const buttonEl =\n",
              "          document.querySelector('#df-adc802d9-b44b-458b-9433-d15363cd5492 button.colab-df-convert');\n",
              "        buttonEl.style.display =\n",
              "          google.colab.kernel.accessAllowed ? 'block' : 'none';\n",
              "\n",
              "        async function convertToInteractive(key) {\n",
              "          const element = document.querySelector('#df-adc802d9-b44b-458b-9433-d15363cd5492');\n",
              "          const dataTable =\n",
              "            await google.colab.kernel.invokeFunction('convertToInteractive',\n",
              "                                                     [key], {});\n",
              "          if (!dataTable) return;\n",
              "\n",
              "          const docLinkHtml = 'Like what you see? Visit the ' +\n",
              "            '<a target=\"_blank\" href=https://colab.research.google.com/notebooks/data_table.ipynb>data table notebook</a>'\n",
              "            + ' to learn more about interactive tables.';\n",
              "          element.innerHTML = '';\n",
              "          dataTable['output_type'] = 'display_data';\n",
              "          await google.colab.output.renderOutput(dataTable, element);\n",
              "          const docLink = document.createElement('div');\n",
              "          docLink.innerHTML = docLinkHtml;\n",
              "          element.appendChild(docLink);\n",
              "        }\n",
              "      </script>\n",
              "    </div>\n",
              "  </div>\n",
              "  "
            ],
            "text/plain": [
              "   age  sex     bmi  children  smoker  region      charges  insuranceclaim\n",
              "0   19    0  27.900         0       1       3  16884.92400               1\n",
              "1   18    1  33.770         1       0       2   1725.55230               1\n",
              "2   28    1  33.000         3       0       2   4449.46200               0\n",
              "3   33    1  22.705         0       0       1  21984.47061               0\n",
              "4   32    1  28.880         0       0       1   3866.85520               1"
            ]
          },
          "metadata": {},
          "execution_count": 4
        }
      ],
      "source": [
        "medical.head()"
      ]
    },
    {
      "cell_type": "markdown",
      "metadata": {
        "id": "LnF7mLjMtKsY"
      },
      "source": [
        "__Q1:__ Plot the histogram of charges and calculate the mean and standard deviation. Comment on the appropriateness of these statistics for the data."
      ]
    },
    {
      "cell_type": "markdown",
      "metadata": {
        "id": "-JKfSKtKtKsY"
      },
      "source": [
        "__A:__"
      ]
    },
    {
      "cell_type": "code",
      "execution_count": 5,
      "metadata": {
        "colab": {
          "base_uri": "https://localhost:8080/",
          "height": 295
        },
        "id": "ec6XHk5VtKsY",
        "outputId": "85ae7f62-1fd4-4eb5-fba7-0cdcd10cc4ae"
      },
      "outputs": [
        {
          "output_type": "display_data",
          "data": {
            "image/png": "[encoded data removed]",
            "text/plain": [
              "<Figure size 432x288 with 1 Axes>"
            ]
          },
          "metadata": {
            "needs_background": "light"
          }
        }
      ],
      "source": [
        "plt.hist(medical[\"charges\"])\n",
        "plt.xlabel('charges')\n",
        "plt.title('Distribution of Medical Charges')\n",
        "plt.show()"
      ]
    },
    {
      "cell_type": "code",
      "execution_count": 6,
      "metadata": {
        "id": "pIxDzz06tKsY",
        "colab": {
          "base_uri": "https://localhost:8080/"
        },
        "outputId": "ce5f574c-dfb6-4ef2-b0c7-abeb55a3e20d"
      },
      "outputs": [
        {
          "output_type": "stream",
          "name": "stdout",
          "text": [
            "The mean is: 13270.422265141257 and the standard deviation is: 12105.484975561605\n"
          ]
        }
      ],
      "source": [
        "the_mean = np.mean(medical[\"charges\"])\n",
        "the_std = np.std(medical[\"charges\"])\n",
        "\n",
        "print(f\"The mean is: {the_mean} and the standard deviation is: {the_std}\")"
      ]
    },
    {
      "cell_type": "markdown",
      "metadata": {
        "id": "LlqHWyhFtKsZ"
      },
      "source": [
        "__Q2:__ The administrator is concerned that the actual average charge has fallen below 12,000, threatening the hospital's operational model. On the assumption that these data represent a random sample of charges, how would you justify that these data allow you to answer that question? And what would be the most appropriate frequentist test, of the ones discussed so far, to apply?"
      ]
    },
    {
      "cell_type": "markdown",
      "metadata": {
        "id": "NGFf176ytKsZ"
      },
      "source": [
        "__A:__\n",
        "\n",
        "So, the question is, has the actual avarage (mean) charge fallen below? This data can be used to answer the question using a t-test. Since the statistic of importance is the mean,(even though the distribution of the individual charges is not normal, the distribution of random sample means will be normal and the CLT holds) we can make inference about it using the calculated mean and standard deviation from our random sample of charges."
      ]
    },
    {
      "cell_type": "markdown",
      "metadata": {
        "id": "1sh-qur3tKsZ"
      },
      "source": [
        "__Q3:__ Given the nature of the administrator's concern, what is the appropriate confidence interval in this case? A ***one-sided*** or ***two-sided*** interval? (Refresh your understanding of this concept on p. 399 of the *AoS*). Calculate the critical value and the relevant 95% confidence interval for the mean, and comment on whether the administrator should be concerned."
      ]
    },
    {
      "cell_type": "markdown",
      "metadata": {
        "id": "-dBHUTfWtKsZ"
      },
      "source": [
        "__A:__\n",
        "The appropriate interval is a one-sided interval since the Administrator is concerned if the avarage cahrges has fallen below 12000.\n",
        "\n",
        "$H_0:μ < 12000$ <br>\n",
        "$H_a:μ \\ge 12000$ <br>\n",
        "\n",
        "The Confidence Interval formula is:<br>\n",
        "$\\overline{x} \\pm t^* \\frac{s}{\\sqrt{n}}$ <br>\n",
        "where:\n",
        "* $\\overline{x}$ is the estimated population mean, \n",
        "* $t^*$ is the t-value for $1-C$,\n",
        "* $s$ is the population standard deviation, and \n",
        "* $n$ is the number of observations"
      ]
    },
    {
      "cell_type": "code",
      "execution_count": 8,
      "metadata": {
        "id": "jbf3jOMMtKsZ",
        "colab": {
          "base_uri": "https://localhost:8080/"
        },
        "outputId": "174e9d77-b78c-4a55-e612-d3ae38591d97"
      },
      "outputs": [
        {
          "output_type": "stream",
          "name": "stdout",
          "text": [
            "The sample size is: 1338\n",
            "The estimated population mean is 13270.422265141257, and the estimated standard deviation is: 12110.011236693994\n"
          ]
        }
      ],
      "source": [
        "#n is the size of the medical[\"charges\"]\n",
        "n = len(medical[\"charges\"])\n",
        "print(f\"The sample size is: {n}\")\n",
        "#we calculate the sample mean and standard deviation, which are the estimated population statistics\n",
        "pop_mean = np.mean(medical[\"charges\"])\n",
        "#standard deviation using the Bessel's correction\n",
        "pop_std = np.std(medical[\"charges\"], ddof=1)\n",
        "print(f\"The estimated population mean is {pop_mean}, and the estimated standard deviation is: {pop_std}\")"
      ]
    },
    {
      "cell_type": "code",
      "execution_count": 9,
      "metadata": {
        "id": "akAsT71GtKsa",
        "colab": {
          "base_uri": "https://localhost:8080/"
        },
        "outputId": "50df7b98-ed28-43ac-d2ef-34fb7ef97365"
      },
      "outputs": [
        {
          "output_type": "stream",
          "name": "stdout",
          "text": [
            "The Critical value is: -1.6459941145571324\n",
            "The lovest value of the mean is: 12725.48718381623\n"
          ]
        }
      ],
      "source": [
        "t_value = t.ppf(.05, df=n-1)\n",
        "print(f\"The Critical value is: {t_value}\")\n",
        "margin = t_value * (pop_std / np.sqrt(n))\n",
        "lowest_mean = pop_mean + margin\n",
        "print(f\"The lovest value of the mean is: {lowest_mean}\")"
      ]
    },
    {
      "cell_type": "markdown",
      "source": [
        "From the above, the Administrator should not be concerned"
      ],
      "metadata": {
        "id": "q-5s3JsP9iYi"
      }
    },
    {
      "cell_type": "code",
      "execution_count": null,
      "metadata": {
        "id": "PfnH6_NCtKsa"
      },
      "outputs": [],
      "source": [
        ""
      ]
    },
    {
      "cell_type": "markdown",
      "metadata": {
        "id": "twpj4RhHtKsa"
      },
      "source": [
        "The administrator then wants to know whether people with insurance really are charged a different amount to those without.\n",
        "\n",
        "__Q4:__ State the null and alternative hypothesis here. Use the _t_-test for the difference between means, where the pooled standard deviation of the two groups is given by:\n",
        "\\begin{equation}\n",
        "s_p = \\sqrt{\\frac{(n_0 - 1)s^2_0 + (n_1 - 1)s^2_1}{n_0 + n_1 - 2}}\n",
        "\\end{equation}\n",
        "\n",
        "and the *t*-test statistic is then given by:\n",
        "\n",
        "\\begin{equation}\n",
        "t = \\frac{\\bar{x}_0 - \\bar{x}_1}{s_p \\sqrt{1/n_0 + 1/n_1}}.\n",
        "\\end{equation}\n",
        "\n",
        "(If you need some reminding of the general definition of ***t-statistic***, check out the definition on p. 404 of *AoS*). \n",
        "\n",
        "What assumption about the variances of the two groups are we making here?"
      ]
    },
    {
      "cell_type": "markdown",
      "metadata": {
        "id": "OZ-eCK5ltKsa"
      },
      "source": [
        "__A:__\n",
        "Here our null hypothesis is that the avarage charge for insured and uninsured patients is the same, and alternative hypothesis is the avarage charges are not the same, with the assumption that the two groups have the same varience.<br>\n",
        "\n",
        "let $\\overline{x}_0$ be the average charge for uninsured patients and $\\overline{x}_1$ be the avarage charge for insured patients, then:<br>\n",
        "\n",
        "$H_0:\\overline{x}_0 = \\overline{x}_1$<br>\n",
        "$H_a:\\overline{x}_0 \\neq \\overline{x}_1$"
      ]
    },
    {
      "cell_type": "markdown",
      "metadata": {
        "id": "aqTIX3q3tKsa"
      },
      "source": [
        "__Q5:__ Perform this hypothesis test both manually, using the above formulae, and then using the appropriate function from [scipy.stats](https://docs.scipy.org/doc/scipy/reference/stats.html#statistical-tests) (hint, you're looking for a function to perform a _t_-test on two independent samples). For the manual approach, calculate the value of the test statistic and then its probability (the p-value). Verify you get the same results from both."
      ]
    },
    {
      "cell_type": "markdown",
      "metadata": {
        "id": "vsKaWOm7tKsb"
      },
      "source": [
        "__A:__ <br>\n",
        "let, $x_0$ be the group of patients that are not insured and $x_1$ be the group of patients that are insured"
      ]
    },
    {
      "cell_type": "code",
      "execution_count": 10,
      "metadata": {
        "id": "9AtsBPvatKsb",
        "colab": {
          "base_uri": "https://localhost:8080/"
        },
        "outputId": "944536dc-4a7e-49ad-a6ce-4ad9dad9d07c"
      },
      "outputs": [
        {
          "output_type": "stream",
          "name": "stdout",
          "text": [
            "The shape of x_0: (555,) and the shape of x_1: (783,)\n",
            "for x_0 \n",
            " mean: 8821.421892306294 and standard deviation: 6446.510126811736\n",
            "for x_1 \n",
            " mean: 16423.928276537663 and standard deviation: 14045.928418802127\n"
          ]
        }
      ],
      "source": [
        "#we will create the two groups of patients \n",
        "x_0 = medical[\"charges\"][medical[\"insuranceclaim\"] == 0]\n",
        "x_1 = medical[\"charges\"][medical[\"insuranceclaim\"] == 1]\n",
        "print(f\"The shape of x_0: {x_0.shape} and the shape of x_1: {x_1.shape}\")\n",
        "n_0, n_1 = len(x_0), len(x_1)\n",
        "#we calculate the means and standard deviations \n",
        "x_bar_0, x_bar_1 = np.mean(x_0), np.mean(x_1)\n",
        "s_0, s_1 = np.std(x_0, ddof=1), np.std(x_1, ddof=1)\n",
        "print(f\"for x_0 \\n mean: {x_bar_0} and standard deviation: {s_0}\")\n",
        "print(f\"for x_1 \\n mean: {x_bar_1} and standard deviation: {s_1}\")"
      ]
    },
    {
      "cell_type": "code",
      "execution_count": 11,
      "metadata": {
        "id": "i-DTKsIwtKsb",
        "colab": {
          "base_uri": "https://localhost:8080/"
        },
        "outputId": "d8a7f1b1-8aae-4fa5-b0d3-51cf9fa14eef"
      },
      "outputs": [
        {
          "output_type": "stream",
          "name": "stdout",
          "text": [
            "The pooled standard deviation: 11520.034268775256\n",
            "The t-test statistic: -11.89329903087671\n",
            "The p_value: 4.461230231620972e-31\n"
          ]
        }
      ],
      "source": [
        "#Using the above formulars we will calculate the pooled standard deviation of the two groups and the t-test statistic \n",
        "N = n_0 + n_1\n",
        "df = N - 2\n",
        "#first the pooled standard deviation\n",
        "s_p = np.sqrt(((n_0 - 1) * s_0**2 + (n_1 - 1) * s_1**2) /(N - 2))\n",
        "print(f\"The pooled standard deviation: {s_p}\")\n",
        "#the t-test statistic\n",
        "t_value = (x_bar_0 - x_bar_1) / (s_p * np.sqrt(1/n_0 + 1/n_1))\n",
        "print(f\"The t-test statistic: {t_value}\")\n",
        "#and now the pvalue\n",
        "p_value = 2 * t.cdf(t_value, df=df)\n",
        "print(f\"The p_value: {p_value}\")"
      ]
    },
    {
      "cell_type": "code",
      "execution_count": 14,
      "metadata": {
        "id": "CFpEa0QUtKsb",
        "colab": {
          "base_uri": "https://localhost:8080/"
        },
        "outputId": "ccc95355-1bf5-4418-acb4-ea832c3bf4a9"
      },
      "outputs": [
        {
          "output_type": "execute_result",
          "data": {
            "text/plain": [
              "Ttest_indResult(statistic=-11.893299030876712, pvalue=4.461230231620717e-31)"
            ]
          },
          "metadata": {},
          "execution_count": 14
        }
      ],
      "source": [
        "#using the ttest_ind() fuction from scipy that calculates the T-test for the means of two independent samples of scores, we can verify the above\n",
        "#This is a test for the null hypothesis that 2 independent samples have identical average (expected) values\n",
        "#This test assumes that the populations have identical variances by default.\n",
        "from scipy.stats import ttest_ind\n",
        "ttest_ind(x_0,x_1)"
      ]
    },
    {
      "cell_type": "code",
      "execution_count": null,
      "metadata": {
        "id": "96C_WWKltKsb"
      },
      "outputs": [],
      "source": [
        ""
      ]
    },
    {
      "cell_type": "markdown",
      "metadata": {
        "id": "6KDFZMtntKsb"
      },
      "source": [
        "Congratulations! Hopefully you got the exact same numerical results. This shows that you correctly calculated the numbers by hand. Secondly, you used the correct function and saw that it's much easier to use. All you need to do is pass your data to it."
      ]
    },
    {
      "cell_type": "markdown",
      "metadata": {
        "id": "YI3tqQ3OtKsb"
      },
      "source": [
        "__Q6:__ Conceptual question: look through the documentation for statistical test functions in scipy.stats. You'll see the above _t_-test for a sample, but can you see an equivalent one for performing a *z*-test from a sample? Comment on your answer."
      ]
    },
    {
      "cell_type": "markdown",
      "metadata": {
        "id": "tgLxC1J4tKsb"
      },
      "source": [
        "__A:__\n",
        "There is no equivalent z-test for a sample since the population mean and standard deviation are unknown; however, you can use 'scipy.stats.zscore' to compute the z score of each value in the sample, relative to the sample mean and standard deviation."
      ]
    },
    {
      "cell_type": "markdown",
      "metadata": {
        "id": "op7WVSWitKsc"
      },
      "source": [
        "## Learning outcomes"
      ]
    },
    {
      "cell_type": "markdown",
      "metadata": {
        "id": "IPRybp_ktKsc"
      },
      "source": [
        "Having completed this project notebook, you now have good hands-on experience:\n",
        "* using the central limit theorem to help you apply frequentist techniques to answer questions that pertain to very non-normally distributed data from the real world\n",
        "* performing inference using such data to answer business questions\n",
        "* forming a hypothesis and framing the null and alternative hypotheses\n",
        "* testing this using a _t_-test"
      ]
    }
  ],
  "metadata": {
    "kernelspec": {
      "display_name": "Python 3",
      "language": "python",
      "name": "python3"
    },
    "language_info": {
      "codemirror_mode": {
        "name": "ipython",
        "version": 3
      },
      "file_extension": ".py",
      "mimetype": "text/x-python",
      "name": "python",
      "nbconvert_exporter": "python",
      "pygments_lexer": "ipython3",
      "version": "3.8.5"
    },
    "colab": {
      "name": "Frequentist Inference Case Study - Part B (2).ipynb",
      "provenance": [],
      "collapsed_sections": []
    }
  },
  "nbformat": 4,
  "nbformat_minor": 0
}